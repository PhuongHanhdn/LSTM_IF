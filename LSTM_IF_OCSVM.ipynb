{
  "cells": [
    {
      "cell_type": "code",
      "execution_count": 1,
      "metadata": {
        "colab": {
          "base_uri": "https://localhost:8080/"
        },
        "id": "Bxrl_4IhbSSd",
        "outputId": "9624981d-300c-46c8-fc9c-cd4aee5044fa"
      },
      "outputs": [
        {
          "output_type": "stream",
          "name": "stdout",
          "text": [
            "Mounted at /content/drive\n"
          ]
        }
      ],
      "source": [
        "from google.colab import drive\n",
        "drive.mount('/content/drive')"
      ]
    },
    {
      "cell_type": "code",
      "execution_count": 2,
      "metadata": {
        "id": "tVA4qiNI6Xvm"
      },
      "outputs": [],
      "source": [
        "import matplotlib.pyplot as plt\n",
        "import numpy as np\n",
        "import time\n",
        "import math\n",
        "import tensorflow as tf\n",
        "import keras\n",
        "from keras import optimizers, Sequential\n",
        "from keras.models import Model\n",
        "#from keras.utils import plot_model\n",
        "from keras.layers import Dense, LSTM, RepeatVector, TimeDistributed\n",
        "from keras.callbacks import ModelCheckpoint, TensorBoard\n",
        "import numpy as np\n",
        "from numpy import arange, sin, pi, random\n",
        "from sklearn.metrics import precision_recall_curve\n",
        "from sklearn.metrics import precision_score\n",
        "from sklearn.metrics import recall_score\n",
        "from sklearn.metrics import f1_score\n",
        "from sklearn.metrics import accuracy_score\n",
        "from sklearn.model_selection import train_test_split\n",
        "import scipy.integrate as integrate\n",
        "from sklearn.preprocessing import StandardScaler\n",
        "from sklearn.metrics import confusion_matrix, precision_recall_curve\n",
        "from sklearn.metrics import recall_score, classification_report, auc, roc_curve\n",
        "from sklearn.metrics import precision_recall_fscore_support, f1_score\n",
        "from sklearn.neighbors import KernelDensity\n",
        "from sklearn.model_selection import GridSearchCV\n",
        "from sklearn.ensemble import IsolationForest\n",
        "from scipy.stats import pearsonr\n",
        "\n",
        "np.random.seed(1234)\n",
        "PYTHONHASHSEED = 0\n",
        "\n",
        "from sklearn import preprocessing\n",
        "from sklearn.metrics import confusion_matrix, recall_score, precision_score\n",
        "from keras.models import Sequential\n",
        "from keras.layers import Dense, Dropout, LSTM, Activation\n",
        "%matplotlib inline"
      ]
    },
    {
      "cell_type": "markdown",
      "metadata": {
        "id": "YOiH3SauAUbV"
      },
      "source": [
        "#Import Data\n"
      ]
    },
    {
      "cell_type": "code",
      "execution_count": 3,
      "metadata": {
        "colab": {
          "base_uri": "https://localhost:8080/"
        },
        "id": "H4HWVBN16Xvv",
        "outputId": "945d4eb9-e403-43ac-ecf5-59cb080dc339"
      },
      "outputs": [
        {
          "output_type": "stream",
          "name": "stdout",
          "text": [
            "(2009, 16, 16)\n",
            "(503, 16, 16)\n"
          ]
        }
      ],
      "source": [
        "data = np.load('/content/drive/MyDrive/Datasets/scada1.npz')\n",
        "lst = data.files\n",
        "# for item in lst:\n",
        "#     print(item)\n",
        "#     print(data[item])\n",
        "X_train = data['training']\n",
        "X_test = data['test']\n",
        "idx_anomaly_test = data['idx_anomaly_test']\n",
        "normal_test_data = X_test[~idx_anomaly_test]\n",
        "anomalous_test_data = X_test[idx_anomaly_test]\n",
        "test_index = data['idx_anomaly_test']\n",
        "#print(X_test.shape)\n",
        "y_test = [1]*len(data['t_test'])\n",
        "for i in test_index:\n",
        "  y_test[i-1] = -1\n",
        "#print(y_test)\n",
        "#Split X_train and X_test according to the ratio of 80:20\n",
        "X_train = X_train[0:40192]\n",
        "X_test = X_test[0:10048]\n",
        "y_test = y_test[0:10048]\n",
        "#Reshape the input data to fit LSTM model\n",
        "X_train = np.reshape(X_train, (2512,16,16))\n",
        "X_test = np.reshape(X_test, (628,16,16))\n",
        "sequence_length =16\n",
        "DATA_SPLIT_PCT = 0.2\n",
        "SEED = 123 #used to help randomly select the data points\n",
        "batch_size = 50\n",
        "epochs = 30\n",
        "X_train_X, X_valid = train_test_split(X_train, test_size=DATA_SPLIT_PCT, random_state=SEED)\n",
        "timesteps =  16 # equal to the sequence_length\n",
        "n_features =  16\n",
        "print(X_train_X.shape)\n",
        "print(X_valid.shape)"
      ]
    },
    {
      "cell_type": "markdown",
      "metadata": {
        "id": "IiKbYw_uEoCF"
      },
      "source": [
        "#LSTM Model"
      ]
    },
    {
      "cell_type": "code",
      "execution_count": 4,
      "metadata": {
        "colab": {
          "base_uri": "https://localhost:8080/"
        },
        "id": "f68CHy1G6Xv5",
        "outputId": "8565547c-9a6b-47f6-e61a-f0c278f0e9b7"
      },
      "outputs": [
        {
          "output_type": "stream",
          "name": "stdout",
          "text": [
            "Running with 64 LSTM cellsand learning rate = 0.001 ...\n"
          ]
        },
        {
          "output_type": "stream",
          "name": "stderr",
          "text": [
            "WARNING:tensorflow:Layer lstm will not use cuDNN kernels since it doesn't meet the criteria. It will use a generic GPU kernel as fallback when running on GPU.\n",
            "WARNING:tensorflow:Layer lstm_1 will not use cuDNN kernels since it doesn't meet the criteria. It will use a generic GPU kernel as fallback when running on GPU.\n",
            "WARNING:tensorflow:Layer lstm_2 will not use cuDNN kernels since it doesn't meet the criteria. It will use a generic GPU kernel as fallback when running on GPU.\n",
            "WARNING:tensorflow:Layer lstm_3 will not use cuDNN kernels since it doesn't meet the criteria. It will use a generic GPU kernel as fallback when running on GPU.\n"
          ]
        },
        {
          "output_type": "stream",
          "name": "stdout",
          "text": [
            "Model: \"sequential\"\n",
            "_________________________________________________________________\n",
            " Layer (type)                Output Shape              Param #   \n",
            "=================================================================\n",
            " lstm (LSTM)                 (None, 16, 100)           46800     \n",
            "                                                                 \n",
            " lstm_1 (LSTM)               (None, 25)                12600     \n",
            "                                                                 \n",
            " repeat_vector (RepeatVecto  (None, 16, 25)            0         \n",
            " r)                                                              \n",
            "                                                                 \n",
            " lstm_2 (LSTM)               (None, 16, 25)            5100      \n",
            "                                                                 \n",
            " lstm_3 (LSTM)               (None, 16, 100)           50400     \n",
            "                                                                 \n",
            " time_distributed (TimeDist  (None, 16, 16)            1616      \n",
            " ributed)                                                        \n",
            "                                                                 \n",
            "=================================================================\n",
            "Total params: 116516 (455.14 KB)\n",
            "Trainable params: 116516 (455.14 KB)\n",
            "Non-trainable params: 0 (0.00 Byte)\n",
            "_________________________________________________________________\n",
            "Epoch 1/30\n",
            "51/51 - 14s - loss: 0.5548 - val_loss: 0.4665 - 14s/epoch - 268ms/step\n",
            "Epoch 2/30\n",
            "51/51 - 4s - loss: 0.3871 - val_loss: 0.3628 - 4s/epoch - 76ms/step\n",
            "Epoch 3/30\n",
            "51/51 - 6s - loss: 0.3357 - val_loss: 0.3331 - 6s/epoch - 119ms/step\n",
            "Epoch 4/30\n",
            "51/51 - 4s - loss: 0.3008 - val_loss: 0.3062 - 4s/epoch - 77ms/step\n",
            "Epoch 5/30\n",
            "51/51 - 4s - loss: 0.2877 - val_loss: 0.2961 - 4s/epoch - 76ms/step\n",
            "Epoch 6/30\n",
            "51/51 - 6s - loss: 0.2667 - val_loss: 0.2788 - 6s/epoch - 120ms/step\n",
            "Epoch 7/30\n",
            "51/51 - 4s - loss: 0.2565 - val_loss: 0.2773 - 4s/epoch - 78ms/step\n",
            "Epoch 8/30\n",
            "51/51 - 4s - loss: 0.2525 - val_loss: 0.2663 - 4s/epoch - 77ms/step\n",
            "Epoch 9/30\n",
            "51/51 - 6s - loss: 0.2457 - val_loss: 0.2597 - 6s/epoch - 121ms/step\n",
            "Epoch 10/30\n",
            "51/51 - 4s - loss: 0.2407 - val_loss: 0.2592 - 4s/epoch - 79ms/step\n",
            "Epoch 11/30\n",
            "51/51 - 4s - loss: 0.2396 - val_loss: 0.2550 - 4s/epoch - 76ms/step\n",
            "Epoch 12/30\n",
            "51/51 - 6s - loss: 0.2366 - val_loss: 0.2538 - 6s/epoch - 115ms/step\n",
            "Epoch 13/30\n",
            "51/51 - 4s - loss: 0.2362 - val_loss: 0.2532 - 4s/epoch - 75ms/step\n",
            "Epoch 14/30\n",
            "51/51 - 4s - loss: 0.2356 - val_loss: 0.2515 - 4s/epoch - 78ms/step\n",
            "Epoch 15/30\n",
            "51/51 - 7s - loss: 0.2347 - val_loss: 0.2541 - 7s/epoch - 145ms/step\n",
            "Epoch 16/30\n",
            "51/51 - 4s - loss: 0.2325 - val_loss: 0.2496 - 4s/epoch - 77ms/step\n",
            "Epoch 17/30\n",
            "51/51 - 4s - loss: 0.2352 - val_loss: 0.2548 - 4s/epoch - 75ms/step\n",
            "Epoch 18/30\n",
            "51/51 - 6s - loss: 0.2318 - val_loss: 0.2500 - 6s/epoch - 119ms/step\n",
            "Epoch 19/30\n",
            "51/51 - 4s - loss: 0.2323 - val_loss: 0.2583 - 4s/epoch - 76ms/step\n",
            "Epoch 20/30\n",
            "51/51 - 4s - loss: 0.2318 - val_loss: 0.2466 - 4s/epoch - 77ms/step\n",
            "Epoch 21/30\n",
            "51/51 - 6s - loss: 0.2302 - val_loss: 0.2450 - 6s/epoch - 116ms/step\n",
            "Epoch 22/30\n",
            "51/51 - 4s - loss: 0.2274 - val_loss: 0.2457 - 4s/epoch - 76ms/step\n",
            "Epoch 23/30\n",
            "51/51 - 4s - loss: 0.2308 - val_loss: 0.2450 - 4s/epoch - 76ms/step\n",
            "Epoch 24/30\n",
            "51/51 - 6s - loss: 0.2325 - val_loss: 0.2452 - 6s/epoch - 117ms/step\n",
            "Epoch 25/30\n",
            "51/51 - 4s - loss: 0.2242 - val_loss: 0.2381 - 4s/epoch - 74ms/step\n",
            "Epoch 26/30\n",
            "51/51 - 4s - loss: 0.2274 - val_loss: 0.2576 - 4s/epoch - 77ms/step\n",
            "Epoch 27/30\n",
            "51/51 - 6s - loss: 0.2290 - val_loss: 0.2438 - 6s/epoch - 111ms/step\n",
            "Epoch 28/30\n",
            "51/51 - 4s - loss: 0.2211 - val_loss: 0.2350 - 4s/epoch - 80ms/step\n",
            "Epoch 29/30\n",
            "51/51 - 4s - loss: 0.2283 - val_loss: 0.2581 - 4s/epoch - 75ms/step\n",
            "Epoch 30/30\n",
            "51/51 - 5s - loss: 0.2310 - val_loss: 0.2402 - 5s/epoch - 99ms/step\n",
            "Predicting...\n",
            "79/79 [==============================] - 2s 18ms/step\n",
            "20/20 [==============================] - 0s 19ms/step\n",
            "CPU times: user 3min 6s, sys: 16.2 s, total: 3min 22s\n",
            "Wall time: 3min 32s\n"
          ]
        }
      ],
      "source": [
        "%%time\n",
        "results = {}\n",
        "for num_cells in [64]:\n",
        "    for lr in [1e-3]:\n",
        "            print('Running with', num_cells,\n",
        "                  'LSTM cells'\n",
        "                  'and learning rate =', lr, '...')\n",
        "\n",
        "            # build network\n",
        "            lstm_autoencoder = Sequential()\n",
        "            # Encoder\n",
        "            lstm_autoencoder.add(LSTM(100, activation='relu', input_shape=(timesteps, n_features), return_sequences=True))\n",
        "            lstm_autoencoder.add(LSTM(25, activation='relu', return_sequences=False))\n",
        "            lstm_autoencoder.add(RepeatVector(timesteps))\n",
        "            # Decoder\n",
        "            lstm_autoencoder.add(LSTM(25, activation='relu', return_sequences=True))\n",
        "            lstm_autoencoder.add(LSTM(100, activation='relu', return_sequences=True))\n",
        "            lstm_autoencoder.add(TimeDistributed(Dense(n_features)))\n",
        "            # lstm_autoencoder.add(tf.keras.layers.Flatten())\n",
        "            lstm_autoencoder.summary()\n",
        "            adam = tf.optimizers.Adam(lr)\n",
        "            lstm_autoencoder.compile(loss='mse', optimizer=adam)\n",
        "            cp = ModelCheckpoint(filepath=\"lstm_autoencoder_classifier.h5\",\n",
        "                               save_best_only=True,\n",
        "                               verbose=0)\n",
        "            tb = TensorBoard(log_dir='./logs',\n",
        "                histogram_freq=0,\n",
        "                write_graph=True,\n",
        "                write_images=True)\n",
        "            lstm_autoencoder_history = lstm_autoencoder.fit(X_train, X_train,\n",
        "                                                epochs=epochs,\n",
        "                                                batch_size=batch_size,\n",
        "                                                validation_data=(X_valid, X_valid),\n",
        "                                                verbose=2, callbacks = [keras.callbacks.EarlyStopping(monitor='val_loss', min_delta=0, patience=10, verbose=0, mode='auto')]).history\n",
        "            print(\"Predicting...\")\n",
        "            predicted_train = lstm_autoencoder.predict(X_train)\n",
        "            predicted = lstm_autoencoder.predict(X_test)"
      ]
    },
    {
      "cell_type": "markdown",
      "metadata": {
        "id": "DrCvj0UTFfI4"
      },
      "source": [
        "#Anomaly Detection using OCSVM"
      ]
    },
    {
      "cell_type": "code",
      "execution_count": 5,
      "metadata": {
        "colab": {
          "base_uri": "https://localhost:8080/"
        },
        "id": "zHQb7VdL9nL0",
        "outputId": "e3966a9b-c006-4e76-82f3-591ed31a8717"
      },
      "outputs": [
        {
          "output_type": "stream",
          "name": "stdout",
          "text": [
            "Accuracy :  0.7060111464968153\n",
            "Precision :  0.8402834559825566\n",
            "Recall:  0.7757926522395571\n",
            "F1_score:  0.8067512756770902\n"
          ]
        }
      ],
      "source": [
        "e = X_train - predicted_train\n",
        "nsamples, nx, ny = e.shape\n",
        "d2_e = e.reshape((nsamples*nx,ny))\n",
        "X_train1 = d2_e\n",
        "X_test1 = X_test.reshape(10048,16)\n",
        "from sklearn.svm import OneClassSVM\n",
        "#model = OneClassSVM(kernel = 'rbf', gamma = 0.07, nu = 0.003).fit(X_train1)\n",
        "model = OneClassSVM(kernel = 'rbf', gamma = 0.01, nu = 0.015).fit(X_train1)\n",
        "##{'gamma': 0.001, 'kernel': 'rbf', 'nu': 0.001}\n",
        "y_predict = model.predict(X_test1)\n",
        "precision = precision_score(y_test, y_predict)\n",
        "recall    = recall_score(y_test, y_predict)\n",
        "accuracy = accuracy_score(y_test, y_predict)\n",
        "f1 = f1_score(y_test, y_predict)\n",
        "print ('Accuracy : ', accuracy)\n",
        "print ('Precision : ', precision)\n",
        "print ('Recall: ', recall)\n",
        "print ('F1_score: ', f1)"
      ]
    },
    {
      "cell_type": "markdown",
      "metadata": {
        "id": "ZoVWhJk41-DY"
      },
      "source": [
        "##Anomaly Detection using IF"
      ]
    },
    {
      "cell_type": "code",
      "execution_count": 6,
      "metadata": {
        "colab": {
          "base_uri": "https://localhost:8080/"
        },
        "id": "7dSXAYad5He3",
        "outputId": "0ad7ef4c-2418-424e-89e1-79609e33423c"
      },
      "outputs": [
        {
          "output_type": "stream",
          "name": "stdout",
          "text": [
            "Accuracy :  0.6009156050955414\n",
            "Precision :  0.8572206095791002\n",
            "Recall:  0.594489179667841\n",
            "F1_score:  0.7020802377414561\n"
          ]
        }
      ],
      "source": [
        "rng = np.random.RandomState(500)\n",
        "clf = IsolationForest(max_samples=40002, random_state=rng)\n",
        "#from sklearn.covariance import EllipticEnvelope\n",
        "#clf = EllipticEnvelope(contamination=0.01)\n",
        "clf.fit(X_train1)\n",
        "y_predict = clf.predict(X_test1)\n",
        "precision = precision_score(y_test, y_predict)\n",
        "recall    = recall_score(y_test, y_predict)\n",
        "accuracy = accuracy_score(y_test, y_predict)\n",
        "f1 = f1_score(y_test, y_predict)\n",
        "print ('Accuracy : ', accuracy)\n",
        "print ('Precision : ', precision)\n",
        "print ('Recall: ', recall)\n",
        "print ('F1_score: ', f1)"
      ]
    },
    {
      "cell_type": "code",
      "execution_count": 6,
      "metadata": {
        "id": "dRGGSP3q_f3C"
      },
      "outputs": [],
      "source": []
    },
    {
      "cell_type": "code",
      "execution_count": 7,
      "metadata": {
        "colab": {
          "base_uri": "https://localhost:8080/",
          "height": 472
        },
        "id": "h0DHFCMywmg7",
        "outputId": "e56e0b3e-68cd-46c6-d597-ef33fee72351"
      },
      "outputs": [
        {
          "output_type": "display_data",
          "data": {
            "text/plain": [
              "<Figure size 640x480 with 1 Axes>"
            ],
            "image/png": "[encoded data removed]"
          },
          "metadata": {}
        }
      ],
      "source": [
        "from sklearn.metrics import PrecisionRecallDisplay\n",
        "y_score = model.decision_function(X_test1)\n",
        "display = PrecisionRecallDisplay.from_predictions(y_test, y_score, name=\"LinearSVC\")\n",
        "_ = display.ax_.set_title(\"2-class Precision-Recall curve\")"
      ]
    },
    {
      "cell_type": "code",
      "execution_count": 8,
      "metadata": {
        "id": "BA75YOjQK9pY"
      },
      "outputs": [],
      "source": [
        "# for i in range(1,10):\n",
        "#   for j in range(1,9):\n",
        "#     model = OneClassSVM(kernel = 'rbf',degree = j, gamma = 0.001*i, nu = 0.002*i).fit(X_train1)\n",
        "#     y_predict = model.predict(X_test1)\n",
        "#     f1 = f1_score(y_test, y_predict)\n",
        "#     print ('F1_score: ', f1)"
      ]
    },
    {
      "cell_type": "code",
      "execution_count": 9,
      "metadata": {
        "id": "CtrXnUY4x5jx"
      },
      "outputs": [],
      "source": [
        "# predicted_train = lstm_autoencoder.predict(X_train)\n",
        "# predicted = lstm_autoencoder.predict(X_test)\n",
        "# mse = np.mean(np.power(flatten(X_test) - flatten(predicted), 2), axis=1)\n",
        "# mse_train = np.mean(np.power(flatten(X_train) - flatten(predicted_train), 2), axis=1)\n",
        "# params = {'bandwidth': np.linspace(0, 0.5, 10)}\n",
        "# grid = GridSearchCV(KernelDensity(), params, cv = 20)\n",
        "# grid.fit(mse_train[:, None])\n",
        "# h=grid.best_estimator_.bandwidth2\n",
        "# tau=FindThreshold(mse_train,h,0.56)"
      ]
    },
    {
      "cell_type": "markdown",
      "metadata": {
        "id": "emAHIF8rJdCl"
      },
      "source": [
        "#Model Explantation"
      ]
    },
    {
      "cell_type": "code",
      "execution_count": 10,
      "metadata": {
        "colab": {
          "base_uri": "https://localhost:8080/"
        },
        "id": "CHbN0Rtj5ukD",
        "outputId": "cf71e50a-682a-4152-e49d-475d7b7d1350"
      },
      "outputs": [
        {
          "output_type": "stream",
          "name": "stderr",
          "text": [
            "WARNING:tensorflow:Layer lstm_4 will not use cuDNN kernels since it doesn't meet the criteria. It will use a generic GPU kernel as fallback when running on GPU.\n",
            "WARNING:tensorflow:Layer lstm_5 will not use cuDNN kernels since it doesn't meet the criteria. It will use a generic GPU kernel as fallback when running on GPU.\n",
            "WARNING:tensorflow:Layer lstm_6 will not use cuDNN kernels since it doesn't meet the criteria. It will use a generic GPU kernel as fallback when running on GPU.\n",
            "WARNING:tensorflow:Layer lstm_7 will not use cuDNN kernels since it doesn't meet the criteria. It will use a generic GPU kernel as fallback when running on GPU.\n"
          ]
        },
        {
          "output_type": "stream",
          "name": "stdout",
          "text": [
            "Model: \"sequential_1\"\n",
            "_________________________________________________________________\n",
            " Layer (type)                Output Shape              Param #   \n",
            "=================================================================\n",
            " lstm_4 (LSTM)               (None, 16, 100)           46800     \n",
            "                                                                 \n",
            " lstm_5 (LSTM)               (None, 25)                12600     \n",
            "                                                                 \n",
            " repeat_vector_1 (RepeatVec  (None, 16, 25)            0         \n",
            " tor)                                                            \n",
            "                                                                 \n",
            " lstm_6 (LSTM)               (None, 16, 25)            5100      \n",
            "                                                                 \n",
            " lstm_7 (LSTM)               (None, 16, 100)           50400     \n",
            "                                                                 \n",
            " time_distributed_1 (TimeDi  (None, 16, 16)            1616      \n",
            " stributed)                                                      \n",
            "                                                                 \n",
            " flatten (Flatten)           (None, 256)               0         \n",
            "                                                                 \n",
            "=================================================================\n",
            "Total params: 116516 (455.14 KB)\n",
            "Trainable params: 116516 (455.14 KB)\n",
            "Non-trainable params: 0 (0.00 Byte)\n",
            "_________________________________________________________________\n"
          ]
        }
      ],
      "source": [
        "lstm_autoencoder1 = Sequential()\n",
        "# Encoder\n",
        "lstm_autoencoder1.add(LSTM(100, activation='relu', input_shape=(timesteps, n_features), return_sequences=True))\n",
        "lstm_autoencoder1.add(LSTM(25, activation='relu', return_sequences=False))\n",
        "lstm_autoencoder1.add(RepeatVector(timesteps))\n",
        "# Decoder\n",
        "lstm_autoencoder1.add(LSTM(25, activation='relu', return_sequences=True))\n",
        "lstm_autoencoder1.add(LSTM(100, activation='relu', return_sequences=True))\n",
        "lstm_autoencoder1.add(TimeDistributed(Dense(n_features)))\n",
        "lstm_autoencoder1.add(tf.keras.layers.Flatten())\n",
        "lstm_autoencoder1.summary()\n"
      ]
    },
    {
      "cell_type": "code",
      "execution_count": 11,
      "metadata": {
        "colab": {
          "base_uri": "https://localhost:8080/"
        },
        "id": "7kh8HV2n6wvv",
        "outputId": "86ed4fc3-b407-4f64-e05d-b19e2b0b4d87"
      },
      "outputs": [
        {
          "output_type": "stream",
          "name": "stdout",
          "text": [
            "79/79 [==============================] - 1s 12ms/step\n"
          ]
        }
      ],
      "source": [
        "#transfer model\n",
        "lstm_autoencoder1.layers[0].set_weights(lstm_autoencoder.layers[0].get_weights())\n",
        "lstm_autoencoder1.layers[1].set_weights(lstm_autoencoder.layers[1].get_weights())\n",
        "lstm_autoencoder1.layers[2].set_weights(lstm_autoencoder.layers[2].get_weights())\n",
        "lstm_autoencoder1.layers[3].set_weights(lstm_autoencoder.layers[3].get_weights())\n",
        "lstm_autoencoder1.layers[4].set_weights(lstm_autoencoder.layers[4].get_weights())\n",
        "lstm_autoencoder1.layers[5].set_weights(lstm_autoencoder.layers[5].get_weights())\n",
        "predicted_train1 = lstm_autoencoder1.predict(X_train)\n",
        "# print(predicted_train1)"
      ]
    },
    {
      "cell_type": "code",
      "execution_count": 12,
      "metadata": {
        "colab": {
          "base_uri": "https://localhost:8080/"
        },
        "id": "QVmPPaDOxIs7",
        "outputId": "e2cebc36-c71d-45b2-ad4d-74e9fcc2edd1"
      },
      "outputs": [
        {
          "output_type": "stream",
          "name": "stdout",
          "text": [
            "Collecting shap\n",
            "  Downloading shap-0.46.0-cp310-cp310-manylinux_2_12_x86_64.manylinux2010_x86_64.manylinux_2_17_x86_64.manylinux2014_x86_64.whl (540 kB)\n",
            "\u001b[?25l     \u001b[90m━━━━━━━━━━━━━━━━━━━━━━━━━━━━━━━━━━━━━━━━\u001b[0m \u001b[32m0.0/540.1 kB\u001b[0m \u001b[31m?\u001b[0m eta \u001b[36m-:--:--\u001b[0m\r\u001b[2K     \u001b[91m━━━━━━━━━━━━━━━━━━━━━━━━━━━━━━━━━━━━━━━\u001b[0m\u001b[90m╺\u001b[0m \u001b[32m532.5/540.1 kB\u001b[0m \u001b[31m16.4 MB/s\u001b[0m eta \u001b[36m0:00:01\u001b[0m\r\u001b[2K     \u001b[90m━━━━━━━━━━━━━━━━━━━━━━━━━━━━━━━━━━━━━━━━\u001b[0m \u001b[32m540.1/540.1 kB\u001b[0m \u001b[31m12.7 MB/s\u001b[0m eta \u001b[36m0:00:00\u001b[0m\n",
            "\u001b[?25hRequirement already satisfied: numpy in /usr/local/lib/python3.10/dist-packages (from shap) (1.25.2)\n",
            "Requirement already satisfied: scipy in /usr/local/lib/python3.10/dist-packages (from shap) (1.11.4)\n",
            "Requirement already satisfied: scikit-learn in /usr/local/lib/python3.10/dist-packages (from shap) (1.2.2)\n",
            "Requirement already satisfied: pandas in /usr/local/lib/python3.10/dist-packages (from shap) (2.0.3)\n",
            "Requirement already satisfied: tqdm>=4.27.0 in /usr/local/lib/python3.10/dist-packages (from shap) (4.66.4)\n",
            "Requirement already satisfied: packaging>20.9 in /usr/local/lib/python3.10/dist-packages (from shap) (24.1)\n",
            "Collecting slicer==0.0.8 (from shap)\n",
            "  Downloading slicer-0.0.8-py3-none-any.whl (15 kB)\n",
            "Requirement already satisfied: numba in /usr/local/lib/python3.10/dist-packages (from shap) (0.58.1)\n",
            "Requirement already satisfied: cloudpickle in /usr/local/lib/python3.10/dist-packages (from shap) (2.2.1)\n",
            "Requirement already satisfied: llvmlite<0.42,>=0.41.0dev0 in /usr/local/lib/python3.10/dist-packages (from numba->shap) (0.41.1)\n",
            "Requirement already satisfied: python-dateutil>=2.8.2 in /usr/local/lib/python3.10/dist-packages (from pandas->shap) (2.8.2)\n",
            "Requirement already satisfied: pytz>=2020.1 in /usr/local/lib/python3.10/dist-packages (from pandas->shap) (2023.4)\n",
            "Requirement already satisfied: tzdata>=2022.1 in /usr/local/lib/python3.10/dist-packages (from pandas->shap) (2024.1)\n",
            "Requirement already satisfied: joblib>=1.1.1 in /usr/local/lib/python3.10/dist-packages (from scikit-learn->shap) (1.4.2)\n",
            "Requirement already satisfied: threadpoolctl>=2.0.0 in /usr/local/lib/python3.10/dist-packages (from scikit-learn->shap) (3.5.0)\n",
            "Requirement already satisfied: six>=1.5 in /usr/local/lib/python3.10/dist-packages (from python-dateutil>=2.8.2->pandas->shap) (1.16.0)\n",
            "Installing collected packages: slicer, shap\n",
            "Successfully installed shap-0.46.0 slicer-0.0.8\n"
          ]
        }
      ],
      "source": [
        "!pip  install shap"
      ]
    },
    {
      "cell_type": "code",
      "execution_count": null,
      "metadata": {
        "colab": {
          "background_save": true,
          "base_uri": "https://localhost:8080/"
        },
        "id": "7an_n5B-6Xv8",
        "outputId": "22cab663-370e-43e4-a84c-2d3201681c79"
      },
      "outputs": [
        {
          "output_type": "stream",
          "name": "stderr",
          "text": [
            "/usr/local/lib/python3.10/dist-packages/keras/src/backend.py:452: UserWarning: `tf.keras.backend.set_learning_phase` is deprecated and will be removed after 2020-10-11. To update it, simply pass a True/False value to the `training` argument of the `__call__` method of your layer or model.\n",
            "  warnings.warn(\n"
          ]
        }
      ],
      "source": [
        "import shap\n",
        "# X_train2 = X_train[0:400]\n",
        "X_train2 = X_train[:]\n",
        "explainer = shap.GradientExplainer(lstm_autoencoder1, X_train2)\n",
        "X_test_2 = X_test[0:16]\n",
        "shap_values  = explainer.shap_values(X_test_2)"
      ]
    },
    {
      "cell_type": "code",
      "execution_count": null,
      "metadata": {
        "colab": {
          "background_save": true
        },
        "id": "8ubaz96kNrzG"
      },
      "outputs": [],
      "source": [
        "shap.initjs()"
      ]
    },
    {
      "cell_type": "code",
      "execution_count": null,
      "metadata": {
        "colab": {
          "background_save": true
        },
        "id": "E54CmARJN2-X"
      },
      "outputs": [],
      "source": [
        "import pandas as pd\n",
        "features = ['address','function','length','setpoint','gain','reset rate','deadband','cycle time','rate','system mode','control scheme','pump','solenoid','pressure measurement','crc rate','command reponse']\n",
        "shap_values_2D = shap_values[0].reshape(-1,16)\n",
        "X_test_2D = X_test_2.reshape(-1,16)\n",
        "x_test_2d = pd.DataFrame(data=X_test_2D, columns = features)\n",
        "# x_test_2d.corr()\n",
        "shap.summary_plot(shap_values_2D, x_test_2d)"
      ]
    }
  ],
  "metadata": {
    "accelerator": "GPU",
    "colab": {
      "provenance": []
    },
    "kernelspec": {
      "display_name": "Python 3",
      "language": "python",
      "name": "python3"
    },
    "language_info": {
      "codemirror_mode": {
        "name": "ipython",
        "version": 3
      },
      "file_extension": ".py",
      "mimetype": "text/x-python",
      "name": "python",
      "nbconvert_exporter": "python",
      "pygments_lexer": "ipython3",
      "version": "3.8.5"
    }
  },
  "nbformat": 4,
  "nbformat_minor": 0
}